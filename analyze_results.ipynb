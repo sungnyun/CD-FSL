{
 "cells": [
  {
   "cell_type": "code",
   "execution_count": null,
   "metadata": {},
   "outputs": [],
   "source": [
    "import copy\n",
    "import numpy as np\n",
    "import pandas as pd\n",
    "import matplotlib.pyplot as plt"
   ]
  },
  {
   "cell_type": "code",
   "execution_count": null,
   "metadata": {},
   "outputs": [],
   "source": [
    "def dropna(arr, *args, **kwarg):\n",
    "    assert isinstance(arr, np.ndarray)\n",
    "    dropped=pd.DataFrame(arr).dropna(*args, **kwarg).values\n",
    "    if arr.ndim==1:\n",
    "        dropped=dropped.flatten()\n",
    "    return dropped"
   ]
  },
  {
   "cell_type": "code",
   "execution_count": null,
   "metadata": {},
   "outputs": [],
   "source": [
    "dataset = 'miniImageNet' # miniImageNet, CropDisease, EuroSAT, ISIC, ChestX\n",
    "n_way = 5\n",
    "n_shot = 5\n",
    "ft = 100\n",
    "bs = 4\n",
    "\n",
    "alg1_results = pd.read_csv('./logs/checkpoints/miniImageNet/ResNet10_baseline_aug/{}_{}way{}shot_ft{}_bs{}.csv'.format(dataset,\n",
    "                                                                                                               n_way,\n",
    "                                                                                                               n_shot,\n",
    "                                                                                                               ft,\n",
    "                                                                                                               bs), index_col=0)\n",
    "alg1_results = alg1_results.to_numpy()\n",
    "alg1_results = dropna(alg1_results)\n",
    "\n",
    "alg2_results = pd.read_csv('./logs/checkpoints/miniImageNet/ResNet10_baseline_aug/{}_{}way{}shot_ft{}_bs{}_Block4_Random(0.0).csv'.format(dataset,\n",
    "                                                                                                                    n_way,\n",
    "                                                                                                                    n_shot,\n",
    "                                                                                                                    ft,\n",
    "                                                                                                                    bs), index_col=0)\n",
    "alg2_results = alg2_results.to_numpy()\n",
    "alg2_results = dropna(alg2_results)\n",
    "\n",
    "alg3_results = pd.read_csv('./logs/checkpoints/miniImageNet/ResNet10_baseline_body_aug/{}_{}way{}shot_ft{}_bs{}.csv'.format(dataset,\n",
    "                                                                                                               n_way,\n",
    "                                                                                                               n_shot,\n",
    "                                                                                                               ft,\n",
    "                                                                                                               bs), index_col=0)\n",
    "alg3_results = alg3_results.to_numpy()\n",
    "alg3_results = dropna(alg3_results)\n",
    "\n",
    "alg4_results = pd.read_csv('./logs/checkpoints/miniImageNet/ResNet10_baseline_body_aug/{}_{}way{}shot_ft{}_bs{}_Block4_Random(0.0).csv'.format(dataset,\n",
    "                                                                                                                    n_way,\n",
    "                                                                                                                    n_shot,\n",
    "                                                                                                                    ft,\n",
    "                                                                                                                    bs), index_col=0)\n",
    "alg4_results = alg4_results.to_numpy()\n",
    "alg4_results = dropna(alg4_results)\n",
    "\n",
    "# print (alg1_results.shape, alg2_results.shape, alg3_results.shape, alg4_results.shape)"
   ]
  },
  {
   "cell_type": "code",
   "execution_count": null,
   "metadata": {},
   "outputs": [],
   "source": [
    "def calc_mean_conf(df, change_into_max=False):\n",
    "    mean_lst = np.mean(df, axis=0)\n",
    "    conf_lst = 1.96*np.std(df, axis=0)/np.sqrt(len(mean_lst))\n",
    "#     conf_lst = np.std(df, axis=0)\n",
    "    return mean_lst, conf_lst\n",
    "\n",
    "def make_max_df(df):\n",
    "    df_max = copy.deepcopy(df)\n",
    "    for task_num, acc_lst in enumerate(df):\n",
    "        for finetune_epoch, acc in enumerate(acc_lst):\n",
    "            if finetune_epoch == 0:\n",
    "                best_acc = acc\n",
    "            else:\n",
    "                if best_acc >= acc:\n",
    "                    df_max[task_num, finetune_epoch] = best_acc\n",
    "                else:\n",
    "                    best_acc = acc\n",
    "    return df_max"
   ]
  },
  {
   "cell_type": "code",
   "execution_count": null,
   "metadata": {},
   "outputs": [],
   "source": [
    "alg1 = 'baseline'\n",
    "alg2 = 'baseline_Block4'\n",
    "alg3 = 'baseline_body'\n",
    "alg4 = 'baseline_body_Block4'\n",
    "\n",
    "fig, ax = plt.subplots(1, 1, figsize=(4, 4))\n",
    "\n",
    "###\n",
    "\n",
    "mean_lst, conf_lst = calc_mean_conf(alg1_results)\n",
    "x = np.arange(1, len(mean_lst)+1)\n",
    "ax.plot(x, mean_lst, label='{}, last acc: {:4.2f}±{:3.2f}'.format(alg1, mean_lst[-1], conf_lst[-1]), color='b')\n",
    "ax.fill_between(x, (mean_lst-conf_lst), (mean_lst+conf_lst), color='b', alpha=.1)\n",
    "\n",
    "### \n",
    "\n",
    "mean_lst, conf_lst = calc_mean_conf(alg2_results)\n",
    "x = np.arange(1, len(mean_lst)+1)\n",
    "ax.plot(x, mean_lst, label='{}, last acc: {:4.2f}±{:3.2f}'.format(alg2, mean_lst[-1], conf_lst[-1]), color='b', ls='-.')\n",
    "ax.fill_between(x, (mean_lst-conf_lst), (mean_lst+conf_lst), color='b', alpha=.1)\n",
    " \n",
    "###\n",
    "\n",
    "mean_lst, conf_lst = calc_mean_conf(alg3_results)\n",
    "x = np.arange(1, len(mean_lst)+1)\n",
    "ax.plot(x, mean_lst, label='{}, last acc: {:4.2f}±{:3.2f}'.format(alg3, mean_lst[-1], conf_lst[-1]), color='r')\n",
    "ax.fill_between(x, (mean_lst-conf_lst), (mean_lst+conf_lst), color='r', alpha=.1)\n",
    "\n",
    "### \n",
    "mean_lst, conf_lst = calc_mean_conf(alg4_results)\n",
    "x = np.arange(1, len(mean_lst)+1)\n",
    "ax.plot(x, mean_lst, label='{}, last acc: {:4.2f}±{:3.2f}'.format(alg4, mean_lst[-1], conf_lst[-1]), color='r', ls='-.')\n",
    "ax.fill_between(x, (mean_lst-conf_lst), (mean_lst+conf_lst), color='r', alpha=.1)\n",
    "\n",
    "###\n",
    "\n",
    "plt.tight_layout()\n",
    "plt.title('dataset: {}'.format(dataset))\n",
    "plt.legend(loc=4, fontsize=8)\n",
    "plt.show()\n",
    "plt.close()"
   ]
  },
  {
   "cell_type": "markdown",
   "metadata": {},
   "source": [
    "---"
   ]
  },
  {
   "cell_type": "markdown",
   "metadata": {},
   "source": [
    "# Max"
   ]
  },
  {
   "cell_type": "code",
   "execution_count": null,
   "metadata": {},
   "outputs": [],
   "source": [
    "alg1 = 'baseline'\n",
    "alg2 = 'baseline_LBreinit'\n",
    "alg3 = 'baseline_body'\n",
    "alg4 = 'baseline_body_LBreinit'\n",
    "\n",
    "fig, ax = plt.subplots(1, 1, figsize=(4, 4))\n",
    "\n",
    "###\n",
    "\n",
    "alg1_max_results = make_max_df(alg1_results)\n",
    "mean_lst, conf_lst = calc_mean_conf(alg1_max_results)\n",
    "x = np.arange(1, len(mean_lst)+1)\n",
    "ax.plot(x, mean_lst, label='{}, last acc: {:4.2f}±{:3.2f}'.format(alg1, mean_lst[-1], conf_lst[-1]), color='b')\n",
    "ax.fill_between(x, (mean_lst-conf_lst), (mean_lst+conf_lst), color='b', alpha=.1)\n",
    "\n",
    "### \n",
    "\n",
    "alg2_max_results = make_max_df(alg2_results)\n",
    "mean_lst, conf_lst = calc_mean_conf(alg2_max_results)\n",
    "x = np.arange(1, len(mean_lst)+1)\n",
    "ax.plot(x, mean_lst, label='{}, last acc: {:4.2f}±{:3.2f}'.format(alg2, mean_lst[-1], conf_lst[-1]), color='b', ls='-.')\n",
    "ax.fill_between(x, (mean_lst-conf_lst), (mean_lst+conf_lst), color='b', alpha=.1)\n",
    " \n",
    "###\n",
    "\n",
    "alg3_max_results = make_max_df(alg3_results)\n",
    "mean_lst, conf_lst = calc_mean_conf(alg3_max_results)\n",
    "x = np.arange(1, len(mean_lst)+1)\n",
    "ax.plot(x, mean_lst, label='{}, last acc: {:4.2f}±{:3.2f}'.format(alg3, mean_lst[-1], conf_lst[-1]), color='r')\n",
    "ax.fill_between(x, (mean_lst-conf_lst), (mean_lst+conf_lst), color='r', alpha=.1)\n",
    "\n",
    "### \n",
    "\n",
    "alg4_max_results = make_max_df(alg4_results)\n",
    "mean_lst, conf_lst = calc_mean_conf(alg4_max_results)\n",
    "x = np.arange(1, len(mean_lst)+1)\n",
    "ax.plot(x, mean_lst, label='{}, last acc: {:4.2f}±{:3.2f}'.format(alg4, mean_lst[-1], conf_lst[-1]), color='r', ls='-.')\n",
    "ax.fill_between(x, (mean_lst-conf_lst), (mean_lst+conf_lst), color='r', alpha=.1)\n",
    "\n",
    "###\n",
    "\n",
    "plt.tight_layout()\n",
    "plt.title('dataset: {}'.format(dataset))\n",
    "plt.legend(loc=4, fontsize=8)\n",
    "plt.show()\n",
    "plt.close()"
   ]
  },
  {
   "cell_type": "markdown",
   "metadata": {},
   "source": [
    "---"
   ]
  }
 ],
 "metadata": {
  "kernelspec": {
   "display_name": "Python 3",
   "language": "python",
   "name": "python3"
  },
  "language_info": {
   "codemirror_mode": {
    "name": "ipython",
    "version": 3
   },
   "file_extension": ".py",
   "mimetype": "text/x-python",
   "name": "python",
   "nbconvert_exporter": "python",
   "pygments_lexer": "ipython3",
   "version": "3.7.7"
  }
 },
 "nbformat": 4,
 "nbformat_minor": 4
}
