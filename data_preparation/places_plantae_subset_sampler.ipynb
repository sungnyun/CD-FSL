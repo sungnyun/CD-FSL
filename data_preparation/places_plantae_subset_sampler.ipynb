{
 "cells": [
  {
   "cell_type": "markdown",
   "source": [
    "# Places & Plantae Subset Sampler\n",
    "\n",
    "Original notebook used to generate subsets of places and plantae used for CD-FSL."
   ],
   "metadata": {
    "collapsed": false,
    "pycharm": {
     "name": "#%% md\n"
    }
   }
  },
  {
   "cell_type": "code",
   "execution_count": 1,
   "outputs": [],
   "source": [
    "import glob\n",
    "import re\n",
    "import os\n",
    "from collections import defaultdict\n",
    "from tqdm import tqdm\n",
    "import pandas as pd\n",
    "import numpy as np\n",
    "import json\n",
    "import shutil\n",
    "import copy"
   ],
   "metadata": {
    "collapsed": false,
    "pycharm": {
     "name": "#%%\n"
    }
   }
  },
  {
   "cell_type": "code",
   "execution_count": 2,
   "id": "6022d8fc",
   "metadata": {},
   "outputs": [],
   "source": [
    "roots = {\n",
    "    \"places\": \"/home/itsnamgyu/data/places365_standard/train\",\n",
    "    \"plantae\": \"/home/itsnamgyu/data/Plantae\",\n",
    "}"
   ]
  },
  {
   "cell_type": "code",
   "execution_count": 3,
   "id": "d27bbec7",
   "metadata": {},
   "outputs": [],
   "source": [
    "def compile_paths(dataset_key):\n",
    "    root = roots[dataset_key]\n",
    "    all_paths = glob.glob(\"{}/**/*\".format(root), recursive=True)\n",
    "    all_paths.sort()\n",
    "    paths_used = []\n",
    "    paths_by_class = defaultdict(list)\n",
    "    paths_by_extension = defaultdict(list)\n",
    "    for path in tqdm(all_paths):\n",
    "        if os.path.isdir(path):\n",
    "            continue\n",
    "        p1 = os.path.basename(path)\n",
    "        p2 = os.path.basename(os.path.dirname(path))\n",
    "        p3 = os.path.dirname(os.path.dirname(path))\n",
    "        assert(p3 == root)\n",
    "\n",
    "        paths_used.append(path)\n",
    "        paths_by_class[p2].append(path)\n",
    "        ext = p1.split(\".\")[-1]\n",
    "        paths_by_extension[ext].append(path)\n",
    "    \n",
    "    print(\"Total Classes:   \", len(paths_by_class))\n",
    "    print(\"Total Images:    \", len(paths_used))\n",
    "    return paths_used, paths_by_class, paths_by_extension"
   ]
  },
  {
   "cell_type": "code",
   "execution_count": 4,
   "id": "1edb9e3e",
   "metadata": {},
   "outputs": [],
   "source": [
    "def plot_class_distribution(paths_by_class, bins=10, ylim=[0, 25]):\n",
    "    d = {\n",
    "        \"class\": [],\n",
    "        \"count\": [],\n",
    "    }\n",
    "    for k, v in paths_by_class.items():\n",
    "        d[\"class\"].append(k)\n",
    "        d[\"count\"].append(len(v))\n",
    "    \n",
    "    pd.DataFrame(d).loc[:,\"count\"].plot.hist(bins=bins, ylim=ylim)"
   ]
  },
  {
   "cell_type": "markdown",
   "id": "794e3468",
   "metadata": {},
   "source": [
    "# Places"
   ]
  },
  {
   "cell_type": "code",
   "execution_count": 5,
   "id": "18a497bb",
   "metadata": {
    "scrolled": false
   },
   "outputs": [
    {
     "name": "stderr",
     "output_type": "stream",
     "text": [
      "100%|██████████| 1803825/1803825 [00:12<00:00, 146019.01it/s]"
     ]
    },
    {
     "name": "stdout",
     "output_type": "stream",
     "text": [
      "Total Classes:    365\n",
      "Total Images:     1803460\n"
     ]
    },
    {
     "name": "stderr",
     "output_type": "stream",
     "text": [
      "\n"
     ]
    }
   ],
   "source": [
    "all_paths, paths_by_class, paths_by_extension = compile_paths(\"places\")"
   ]
  },
  {
   "cell_type": "code",
   "execution_count": 6,
   "id": "461d45b6",
   "metadata": {
    "scrolled": true
   },
   "outputs": [
    {
     "name": "stdout",
     "output_type": "stream",
     "text": [
      "PATHS BY EXT\n",
      "--------------------------------------------------------------------------------\n",
      "jpg                              1803460\n",
      "--------------------------------------------------------------------------------\n"
     ]
    }
   ],
   "source": [
    "print(\"PATHS BY EXT\")\n",
    "print('-' * 80)\n",
    "for k, v in paths_by_extension.items():\n",
    "    print(\"{:30s}{:>10d}\".format(k, len(v)))\n",
    "print('-' * 80)"
   ]
  },
  {
   "cell_type": "code",
   "execution_count": 7,
   "id": "61a2c307",
   "metadata": {
    "scrolled": true
   },
   "outputs": [
    {
     "data": {
      "image/png": "[encoded data removed]",
      "text/plain": [
       "<Figure size 432x288 with 1 Axes>"
      ]
     },
     "metadata": {
      "needs_background": "light"
     },
     "output_type": "display_data"
    }
   ],
   "source": [
    "plot_class_distribution(paths_by_class)"
   ]
  },
  {
   "cell_type": "markdown",
   "id": "35f93e3a",
   "metadata": {},
   "source": [
    "## Sampling (Places)"
   ]
  },
  {
   "cell_type": "code",
   "execution_count": 8,
   "id": "96d87e7f",
   "metadata": {},
   "outputs": [],
   "source": [
    "PLACES_N_CLASSES = 16\n",
    "PLACES_N_SAMPLES = 1715\n",
    "PLACES_SEED = 0"
   ]
  },
  {
   "cell_type": "code",
   "execution_count": 9,
   "id": "bee422da",
   "metadata": {},
   "outputs": [],
   "source": [
    "classes = list(sorted(paths_by_class.keys()))\n",
    "for paths in paths_by_class.values():\n",
    "    paths.sort()"
   ]
  },
  {
   "cell_type": "code",
   "execution_count": 10,
   "id": "cc1a257f",
   "metadata": {},
   "outputs": [
    {
     "name": "stdout",
     "output_type": "stream",
     "text": [
      "####################            SELECTED CLASSES            ####################\n",
      "['amusement_arcade' 'attic' 'bathroom' 'canal-natural' 'church-indoor'\n",
      " 'corridor' 'dining_hall' 'field-wild' 'lecture_room'\n",
      " 'natural_history_museum' 'patio' 'phone_booth' 'restaurant_patio' 'shed'\n",
      " 'stable' 'veterinarians_office']\n",
      "\n",
      "####################             SELECTED PATHS             ####################\n",
      "{\n",
      "    \"amusement_arcade\": [\n",
      "        \"amusement_arcade/00000002.jpg\",\n",
      "        \"amusement_arcade/00000005.jpg\",\n",
      "        \"amusement_arcade/00000010.jpg\",\n",
      "        \"amusement_arcade/00000013.jpg\",\n",
      "        \"amusement_arcade/00000015.jpg\",\n",
      "        \"amusement_arcade/00000016.jpg\",\n",
      "        \"amusement_arcade/00000023.jpg\",\n",
      "        \"amusement_arcade/00000024.jpg\",\n",
      "        \"amusement_arcade/00000026.jpg\",\n",
      "        \"amusement_arcade/00000030.jpg\",\n",
      "        \"amusement_arcade/00000031.jpg\",\n",
      "        \"amusement_arcade/00000032.jpg\",\n",
      "        \"amusement_arcade/00000033.jpg\",\n",
      "        \"amusement_arcade/00000034.jpg\",\n",
      "        \"amusement_arcade/00000035.jpg\",\n",
      "        \"amusement_arcade/00000038.jpg\",\n",
      "        \"amusement_arcade/00000040.jpg\",\n",
      "        \"amusement_arcade/00000043.jpg\",\n",
      "        \"amusement_arcade/00000045.jpg\",\n",
      "        \"amusement_arcade/00000046.jpg\",\n",
      "        \"amusement_arcade/00000050.jpg\",\n",
      "        \"amusement_arcade/00000058.jpg\",\n",
      "        \"amusement_arcade/00000067.jpg\",\n",
      "        \"amusement_arcade/000\n",
      "\n",
      "Sampled subset saved to places_cdfsl_subset_16_class_1715_sample_seed_0.json\n"
     ]
    }
   ],
   "source": [
    "# RANDOM SAMPLING + SAVE\n",
    "state = np.random.RandomState(seed=PLACES_SEED)\n",
    "\n",
    "selected_classes = state.choice(classes, size=PLACES_N_CLASSES, replace=False)\n",
    "selected_classes.sort()\n",
    "print(\"SELECTED CLASSES\".center(40).center(80, \"#\"))\n",
    "print(selected_classes)\n",
    "print()\n",
    "\n",
    "root = roots[\"places\"]\n",
    "selected_paths_by_class = dict()\n",
    "for cls in selected_classes:\n",
    "    paths = state.choice(paths_by_class[cls], size=PLACES_N_SAMPLES, replace=False)\n",
    "    paths.sort()\n",
    "    relative_paths = []\n",
    "    for p in paths:\n",
    "        relative_paths.append(p.replace(root + \"/\", \"\"))\n",
    "    selected_paths_by_class[cls] = relative_paths\n",
    "    \n",
    "print(\"SELECTED PATHS\".center(40).center(80, \"#\"))\n",
    "print(json.dumps(selected_paths_by_class,indent=4)[:1000])\n",
    "print()\n",
    "\n",
    "subset_path = \"places_cdfsl_subset_{}_class_{}_sample_seed_{}.json\".format(PLACES_N_CLASSES, PLACES_N_SAMPLES, PLACES_SEED)\n",
    "with open(subset_path, \"w\") as f:\n",
    "    json.dump(selected_paths_by_class, f)\n",
    "print(\"Sampled subset saved to {}\".format(subset_path))"
   ]
  },
  {
   "cell_type": "markdown",
   "id": "d7eced04",
   "metadata": {},
   "source": [
    "## Create Subset Directory"
   ]
  },
  {
   "cell_type": "code",
   "execution_count": 11,
   "id": "97936f73",
   "metadata": {
    "scrolled": true
   },
   "outputs": [
    {
     "name": "stderr",
     "output_type": "stream",
     "text": [
      "100%|██████████| 27440/27440 [00:01<00:00, 15049.63it/s]"
     ]
    },
    {
     "name": "stdout",
     "output_type": "stream",
     "text": [
      "Subset directory created at: /home/itsnamgyu/places_cdfsl\n"
     ]
    },
    {
     "name": "stderr",
     "output_type": "stream",
     "text": [
      "\n"
     ]
    }
   ],
   "source": [
    "SOURCE_DIR = roots[\"places\"]\n",
    "DEST_DIR = \"places_cdfsl\"\n",
    "\n",
    "all_paths = []\n",
    "for cls, paths in selected_paths_by_class.items():\n",
    "    all_paths.extend(paths)\n",
    "    \n",
    "for path in tqdm(all_paths):\n",
    "    source = os.path.join(SOURCE_DIR, path)\n",
    "    dest = os.path.join(DEST_DIR, path)\n",
    "    os.makedirs(os.path.dirname(dest), exist_ok=True)\n",
    "    shutil.copyfile(source, dest)\n",
    "    \n",
    "print(\"Subset directory created at: {}\".format(os.path.abspath(DEST_DIR)))"
   ]
  },
  {
   "cell_type": "markdown",
   "id": "f9c32767",
   "metadata": {},
   "source": [
    "# Plantae"
   ]
  },
  {
   "cell_type": "code",
   "execution_count": 12,
   "id": "5799272d",
   "metadata": {
    "scrolled": false
   },
   "outputs": [
    {
     "name": "stderr",
     "output_type": "stream",
     "text": [
      "100%|██████████| 130468/130468 [00:00<00:00, 146696.59it/s]\n"
     ]
    },
    {
     "name": "stdout",
     "output_type": "stream",
     "text": [
      "Total Classes:    2917\n",
      "Total Images:     127551\n"
     ]
    }
   ],
   "source": [
    "all_paths, paths_by_class, paths_by_extension = compile_paths(\"plantae\")"
   ]
  },
  {
   "cell_type": "code",
   "execution_count": 13,
   "id": "d23891e8",
   "metadata": {},
   "outputs": [
    {
     "name": "stdout",
     "output_type": "stream",
     "text": [
      "{\n",
      "    \"5221\": [\n",
      "        \"/home/itsnamgyu/data/Plantae/5221/0d84373be1864daa115b563c323e4835.jpg\",\n",
      "        \"/home/itsnamgyu/data/Plantae/5221/1d3cc6b37ff661fd22e3108cdc3116b8.jpg\",\n",
      "        \"/home/itsnamgyu/data/Plantae/5221/21ba1292cda931cfda56f62cb1504ea9.jpg\",\n",
      "        \"/home/itsnamgyu/data/Plantae/5221/222f7f603db457d1316aeccd6ea4be66.jpg\",\n",
      "        \"/home/itsnamgyu/data/Plantae/5221/4b5bd7d7c7fefffaa6d80ef3e7ad7e59.jpg\",\n",
      "        \"/home/itsnamgyu/data/Plantae/5221/50441b8e1cca8ae51d4fe6e000eca6af.jpg\",\n",
      "        \"/home/itsnamgyu/data/Plantae/5221/55152239cd907d349e7bd977b245b313.jpg\",\n",
      "        \"/home/itsnamgyu/data/Plantae/5221/58b0759e3c5ca02c5fbe6559c798e95c.jpg\",\n",
      "        \"/home/itsnamgyu/data/Plantae/5221/7e365b678aa31834b33bf1ba2993b16b.jpg\",\n",
      "        \"/home/itsnamgyu/data/Plantae/5221/7f9511fafa356505c8629bbd616c9eff.jpg\",\n",
      "        \"/home/itsnamgyu/data/Plantae/5221/80d8221bb6e061d79feac4dab74c98b3.jpg\",\n",
      "        \"/home/itsnamgyu/data/Plantae/5221/8a15138e9d0b6710c005d6eaa2e44921.jpg\",\n",
      "        \"/home/itsnamgyu/data/Plantae/5221/91a88ebfc4408b670cdb37fc859207af.jpg\",\n",
      "        \"/home/itsnamgyu/data/Plantae/5221/b0f06740a7c2cd3be0f313b1d4225048.jpg\",\n",
      "        \"/home/itsnamgyu/data/Plantae/5221/d64533aaafc4ebf169f9fe305416d7c2.jpg\",\n",
      "        \"/home/itsnamgyu/data/Plantae/5221/e2445d36040004ffced7bdddb556779b.jpg\",\n",
      "        \"/home/itsnamgyu/data/Plantae/5221/e27a9afced5aee387e28a3dc91ed3c86.jpg\",\n",
      "        \"/home/itsnamgyu/data/Plantae/5221/fc79cdf9300401209645d230b5cf1f54.jpg\",\n",
      "        \"/home/itsnamgyu/data/Plantae/5221/fda281d431a2ab620b4c7e7b1515c76c.jpg\"\n",
      "    ],\n",
      "    \"5222\": [\n",
      "        \"/home/itsnamgyu/data/Plantae/5222/0614b161d11a439fbf16a69bee344db2.jpg\",\n",
      "        \"/home/itsnamgyu/data/Plantae/5222/085a95c8b0be7330ac0fc667e6d93aac.jpg\",\n",
      "        \"/home/itsnamgyu/data/Plantae/5222/11ac750d0ed2f56da60a798bd3a24017.jpg\",\n",
      "        \"/home/itsnamgyu/data/Plantae/5222/16aa06121da72c8c390a70a022d0d48f.jpg\",\n",
      "        \"/home/itsnamgyu/data/Plantae/5222/190218557f1ec7e67956ada99ba19bc6.jp\n"
     ]
    }
   ],
   "source": [
    "print(json.dumps(paths_by_class, indent=4)[:2000])"
   ]
  },
  {
   "cell_type": "code",
   "execution_count": 14,
   "id": "15b6ee7c",
   "metadata": {
    "scrolled": true
   },
   "outputs": [
    {
     "name": "stdout",
     "output_type": "stream",
     "text": [
      "PATHS BY EXT\n",
      "--------------------------------------------------------------------------------\n",
      "jpg                               127551\n",
      "--------------------------------------------------------------------------------\n"
     ]
    }
   ],
   "source": [
    "print(\"PATHS BY EXT\")\n",
    "print('-' * 80)\n",
    "for k, v in paths_by_extension.items():\n",
    "    print(\"{:30s}{:>10d}\".format(k, len(v)))\n",
    "print('-' * 80)"
   ]
  },
  {
   "cell_type": "code",
   "execution_count": 15,
   "id": "a9cf338f",
   "metadata": {
    "scrolled": true
   },
   "outputs": [
    {
     "data": {
      "image/png": "[encoded data removed]",
      "text/plain": [
       "<Figure size 432x288 with 1 Axes>"
      ]
     },
     "metadata": {
      "needs_background": "light"
     },
     "output_type": "display_data"
    }
   ],
   "source": [
    "plot_class_distribution(paths_by_class)"
   ]
  },
  {
   "cell_type": "markdown",
   "id": "26cdd572",
   "metadata": {},
   "source": [
    "### Sampling Classes w/ Most Examples (for Plantae)"
   ]
  },
  {
   "cell_type": "code",
   "execution_count": 16,
   "id": "c36dd26f",
   "metadata": {},
   "outputs": [],
   "source": [
    "d = {\n",
    "    \"class\": [],\n",
    "    \"count\": [],\n",
    "}\n",
    "for k, v in paths_by_class.items():\n",
    "    d[\"class\"].append(k)\n",
    "    d[\"count\"].append(len(v))\n",
    "\n",
    "class_counts = pd.DataFrame(d)\n",
    "class_counts = class_counts.sort_values(\"count\", ascending=False)\n",
    "class_counts.loc[:,\"cumulative\"] = class_counts[\"count\"].cumsum()"
   ]
  },
  {
   "cell_type": "code",
   "execution_count": 23,
   "id": "81cce69e",
   "metadata": {},
   "outputs": [
    {
     "data": {
      "text/html": [
       "<div>\n",
       "<style scoped>\n",
       "    .dataframe tbody tr th:only-of-type {\n",
       "        vertical-align: middle;\n",
       "    }\n",
       "\n",
       "    .dataframe tbody tr th {\n",
       "        vertical-align: top;\n",
       "    }\n",
       "\n",
       "    .dataframe thead th {\n",
       "        text-align: right;\n",
       "    }\n",
       "</style>\n",
       "<table border=\"1\" class=\"dataframe\">\n",
       "  <thead>\n",
       "    <tr style=\"text-align: right;\">\n",
       "      <th></th>\n",
       "      <th>index</th>\n",
       "      <th>class</th>\n",
       "      <th>count</th>\n",
       "      <th>cumulative</th>\n",
       "    </tr>\n",
       "  </thead>\n",
       "  <tbody>\n",
       "    <tr>\n",
       "      <th>0</th>\n",
       "      <td>586</td>\n",
       "      <td>5807</td>\n",
       "      <td>923</td>\n",
       "      <td>923</td>\n",
       "    </tr>\n",
       "    <tr>\n",
       "      <th>1</th>\n",
       "      <td>913</td>\n",
       "      <td>6134</td>\n",
       "      <td>857</td>\n",
       "      <td>1780</td>\n",
       "    </tr>\n",
       "    <tr>\n",
       "      <th>2</th>\n",
       "      <td>2291</td>\n",
       "      <td>7512</td>\n",
       "      <td>761</td>\n",
       "      <td>2541</td>\n",
       "    </tr>\n",
       "    <tr>\n",
       "      <th>3</th>\n",
       "      <td>2521</td>\n",
       "      <td>7742</td>\n",
       "      <td>722</td>\n",
       "      <td>3263</td>\n",
       "    </tr>\n",
       "    <tr>\n",
       "      <th>4</th>\n",
       "      <td>1616</td>\n",
       "      <td>6837</td>\n",
       "      <td>711</td>\n",
       "      <td>3974</td>\n",
       "    </tr>\n",
       "    <tr>\n",
       "      <th>...</th>\n",
       "      <td>...</td>\n",
       "      <td>...</td>\n",
       "      <td>...</td>\n",
       "      <td>...</td>\n",
       "    </tr>\n",
       "    <tr>\n",
       "      <th>64</th>\n",
       "      <td>1975</td>\n",
       "      <td>7196</td>\n",
       "      <td>254</td>\n",
       "      <td>25646</td>\n",
       "    </tr>\n",
       "    <tr>\n",
       "      <th>65</th>\n",
       "      <td>735</td>\n",
       "      <td>5956</td>\n",
       "      <td>253</td>\n",
       "      <td>25899</td>\n",
       "    </tr>\n",
       "    <tr>\n",
       "      <th>66</th>\n",
       "      <td>2025</td>\n",
       "      <td>7246</td>\n",
       "      <td>252</td>\n",
       "      <td>26151</td>\n",
       "    </tr>\n",
       "    <tr>\n",
       "      <th>67</th>\n",
       "      <td>1520</td>\n",
       "      <td>6741</td>\n",
       "      <td>250</td>\n",
       "      <td>26401</td>\n",
       "    </tr>\n",
       "    <tr>\n",
       "      <th>68</th>\n",
       "      <td>2536</td>\n",
       "      <td>7757</td>\n",
       "      <td>249</td>\n",
       "      <td>26650</td>\n",
       "    </tr>\n",
       "  </tbody>\n",
       "</table>\n",
       "<p>69 rows × 4 columns</p>\n",
       "</div>"
      ],
      "text/plain": [
       "    index class  count  cumulative\n",
       "0     586  5807    923         923\n",
       "1     913  6134    857        1780\n",
       "2    2291  7512    761        2541\n",
       "3    2521  7742    722        3263\n",
       "4    1616  6837    711        3974\n",
       "..    ...   ...    ...         ...\n",
       "64   1975  7196    254       25646\n",
       "65    735  5956    253       25899\n",
       "66   2025  7246    252       26151\n",
       "67   1520  6741    250       26401\n",
       "68   2536  7757    249       26650\n",
       "\n",
       "[69 rows x 4 columns]"
      ]
     },
     "execution_count": 23,
     "metadata": {},
     "output_type": "execute_result"
    }
   ],
   "source": [
    "class_counts.head(n=69).reset_index()"
   ]
  },
  {
   "cell_type": "markdown",
   "id": "2daf7b72",
   "metadata": {},
   "source": [
    "## Sampling (Plantae)"
   ]
  },
  {
   "cell_type": "code",
   "execution_count": 18,
   "id": "9703fc86",
   "metadata": {},
   "outputs": [],
   "source": [
    "PLANTAE_N_CLASSES = 69"
   ]
  },
  {
   "cell_type": "code",
   "execution_count": 19,
   "id": "81c71599",
   "metadata": {
    "scrolled": true
   },
   "outputs": [
    {
     "name": "stdout",
     "output_type": "stream",
     "text": [
      "####################       SELECTED CLASSES (TOP 69)        ####################\n",
      "['5265', '5345', '5521', '5544', '5731', '5740', '5774', '5807', '5838', '5850', '5894', '5907', '5956', '6068', '6134', '6237', '6422', '6436', '6453', '6461', '6523', '6559', '6568', '6594', '6641', '6709', '6741', '6803', '6804', '6825', '6828', '6837', '6839', '6840', '6859', '6890', '6909', '6914', '7051', '7095', '7145', '7150', '7196', '7222', '7246', '7251', '7302', '7410', '7477', '7496', '7512', '7519', '7645', '7739', '7741', '7742', '7757', '7758', '7763', '7765', '7774', '7901', '7935', '7967', '7972', '8049', '8063', '8067', '8076']\n",
      "\n",
      "####################             SELECTED PATHS             ####################\n",
      "{\n",
      "    \"5265\": [\n",
      "        \"5265/00548d18180572c92c844ea7ddfcaddd.jpg\",\n",
      "        \"5265/00d15a1fd75da05f2e5bdf6bd4066398.jpg\",\n",
      "        \"5265/014cdec4b38fbaf8725ad5f28dec9bc9.jpg\",\n",
      "        \"5265/018fa2f428feca7da168c937fd459a6b.jpg\",\n",
      "        \"5265/01bb178c2cd8c66dc8eb2765ad56cf07.jpg\",\n",
      "        \"5265/01c2984384f5a4d0a1777d51694c3953.jpg\",\n",
      "        \"5265/01f1b9f200008bc856fd30e72d2abb80.jpg\",\n",
      "        \"5265/031fc4df76dd06c240cfd17f71c45c58.jpg\",\n",
      "        \"5265/03b64d6e57084a8b39a5746da4ba6e2d.jpg\",\n",
      "        \"5265/03c864868ec64cb80fd081246975e37d.jpg\",\n",
      "        \"5265/041d54651688b7a7784695d707437748.jpg\",\n",
      "        \"5265/043e323669a2dd4cb8d1cddec2403209.jpg\",\n",
      "        \"5265/0440462cce2d422f1da15adba926ce0b.jpg\",\n",
      "        \"5265/048a7a46d05167ffb73df75cef8d47e9.jpg\",\n",
      "        \"5265/04c9f9fd0012afcff11c3988c72707b1.jpg\",\n",
      "        \"5265/04cbd032769a079f8e9441379b20df76.jpg\",\n",
      "        \"5265/051130cee0518cbf6f128a315094c07c.jpg\",\n",
      "        \"5265/055c5a20c08ce894aede741303abe559.jpg\",\n",
      "        \"5265/057105e016551fd2\n",
      "\n",
      "Sampled subset saved to plantae_cdfsl_subset_69_class.json\n"
     ]
    }
   ],
   "source": [
    "class_counts = class_counts.sort_values(\"count\", ascending=False)\n",
    "selected_classes = list(class_counts[\"class\"].iloc[:PLANTAE_N_CLASSES].values)\n",
    "selected_classes.sort()\n",
    "print(\"SELECTED CLASSES (TOP {})\".format(PLANTAE_N_CLASSES).center(40).center(80, \"#\"))\n",
    "print(selected_classes)\n",
    "print()\n",
    "\n",
    "root = roots[\"plantae\"]\n",
    "selected_paths_by_class = dict()\n",
    "for cls in selected_classes:\n",
    "    paths = paths_by_class[cls]\n",
    "    relative_paths = []\n",
    "    for p in paths:\n",
    "        relative_paths.append(p.replace(os.path.join(root, \"\"), \"\"))\n",
    "    relative_paths.sort()\n",
    "    selected_paths_by_class[cls] = relative_paths\n",
    "\n",
    "print(\"SELECTED PATHS\".center(40).center(80, \"#\"))\n",
    "print(json.dumps(selected_paths_by_class, indent=4)[:1000])\n",
    "print()\n",
    "\n",
    "subset_path = \"plantae_cdfsl_subset_{}_class.json\".format(PLANTAE_N_CLASSES)\n",
    "with open(subset_path, \"w\") as f:\n",
    "    json.dump(selected_paths_by_class, f)\n",
    "print(\"Sampled subset saved to {}\".format(subset_path))"
   ]
  },
  {
   "cell_type": "markdown",
   "id": "ff6bfa36",
   "metadata": {},
   "source": [
    "## Create Subset Directory"
   ]
  },
  {
   "cell_type": "code",
   "execution_count": 20,
   "id": "32d9cf34",
   "metadata": {
    "scrolled": true
   },
   "outputs": [
    {
     "name": "stderr",
     "output_type": "stream",
     "text": [
      "100%|██████████| 26650/26650 [00:06<00:00, 3879.60it/s]"
     ]
    },
    {
     "name": "stdout",
     "output_type": "stream",
     "text": [
      "Subset directory created at: /home/itsnamgyu/plantae_cdfsl\n"
     ]
    },
    {
     "name": "stderr",
     "output_type": "stream",
     "text": [
      "\n"
     ]
    }
   ],
   "source": [
    "SOURCE_DIR = roots[\"plantae\"]\n",
    "DEST_DIR = \"plantae_cdfsl\"\n",
    "\n",
    "all_paths = []\n",
    "for cls, paths in selected_paths_by_class.items():\n",
    "    all_paths.extend(paths)\n",
    "    \n",
    "for path in tqdm(all_paths):\n",
    "    source = os.path.join(SOURCE_DIR, path)\n",
    "    dest = os.path.join(DEST_DIR, path)\n",
    "    os.makedirs(os.path.dirname(dest), exist_ok=True)\n",
    "    shutil.copyfile(source, dest)\n",
    "    \n",
    "print(\"Subset directory created at: {}\".format(os.path.abspath(DEST_DIR)))"
   ]
  }
 ],
 "metadata": {
  "kernelspec": {
   "display_name": "Python 3",
   "language": "python",
   "name": "python3"
  },
  "language_info": {
   "codemirror_mode": {
    "name": "ipython",
    "version": 3
   },
   "file_extension": ".py",
   "mimetype": "text/x-python",
   "name": "python",
   "nbconvert_exporter": "python",
   "pygments_lexer": "ipython3",
   "version": "3.8.8"
  }
 },
 "nbformat": 4,
 "nbformat_minor": 5
}